{
 "cells": [
  {
   "cell_type": "code",
   "execution_count": 1,
   "metadata": {
    "collapsed": true
   },
   "outputs": [],
   "source": [
    "import cv2\n",
    "import matplotlib.pyplot as plt\n",
    "import numpy as np\n",
    "from __future__ import print_function\n",
    "import matplotlib.pylab as pylab\n",
    "pylab.rcParams['figure.figsize'] = 16, 12\n",
    "import glob\n",
    "from skimage import data, io, segmentation, color\n",
    "from skimage.future import graph"
   ]
  },
  {
   "cell_type": "markdown",
   "metadata": {},
   "source": [
    "<p><b><i>Ucitavanje slika<i/><b><p>"
   ]
  },
  {
   "cell_type": "code",
   "execution_count": 2,
   "metadata": {
    "collapsed": true
   },
   "outputs": [],
   "source": [
    "def load_image(path):\n",
    "    img = cv2.imread(path)\n",
    "    return cv2.cvtColor(img, cv2.COLOR_BGR2RGB)"
   ]
  },
  {
   "cell_type": "markdown",
   "metadata": {},
   "source": [
    "<p><b><i>Zdrave vocke<i/><b/><p/>"
   ]
  },
  {
   "cell_type": "code",
   "execution_count": 9,
   "metadata": {
    "collapsed": true
   },
   "outputs": [],
   "source": [
    "freshImg = [img for img in glob.glob(\"images/dataset/train/fresh/*.jpg\")]\n",
    "freshImg.sort()\n",
    "fresh = []\n",
    "for img in freshImg:\n",
    "    temp = load_image(img)\n",
    "    fresh.append(temp)"
   ]
  },
  {
   "cell_type": "markdown",
   "metadata": {},
   "source": [
    "<p><b><i>Trule vocke<i/><b/><p/>"
   ]
  },
  {
   "cell_type": "code",
   "execution_count": 10,
   "metadata": {
    "collapsed": true
   },
   "outputs": [],
   "source": [
    "rottenImg = [img for img in glob.glob(\"images/dataset/train/rotten/*.jpg\")]\n",
    "rottenImg.sort()\n",
    "rotten = []\n",
    "for img in rottenImg:\n",
    "    temp = load_image(img)\n",
    "    rotten.append(temp)"
   ]
  },
  {
   "cell_type": "markdown",
   "metadata": {},
   "source": [
    "<p><b><i>Podela slika na regione preko k-means<i/><b/><p/>"
   ]
  },
  {
   "cell_type": "code",
   "execution_count": 12,
   "metadata": {
    "collapsed": true,
    "scrolled": true
   },
   "outputs": [],
   "source": [
    "freshReg = []\n",
    "for imgFresh in fresh:\n",
    "    img = imgFresh.copy()\n",
    "    Z = img.reshape((-1, 3))\n",
    "    Z = np.float32(Z)\n",
    "\n",
    "    criteria = (cv2.TERM_CRITERIA_EPS + cv2.TERM_CRITERIA_MAX_ITER, 10, 1.0)\n",
    "    K = 6\n",
    "    ret, label, center = cv2.kmeans(Z, K, None, criteria, 10, cv2.KMEANS_RANDOM_CENTERS)\n",
    "\n",
    "    ## Vracanje originalne slike\n",
    "    center = np.uint8(center)\n",
    "    res = center[label.flatten()]\n",
    "    res2 = res.reshape((img.shape))\n",
    "\n",
    "    freshReg.append(res2)"
   ]
  },
  {
   "cell_type": "code",
   "execution_count": 13,
   "metadata": {
    "collapsed": true
   },
   "outputs": [],
   "source": [
    "rottenReg = []\n",
    "for imgRotten in fresh:\n",
    "    img = imgRotten.copy()\n",
    "    Z = img.reshape((-1, 3))\n",
    "    Z = np.float32(Z)\n",
    "\n",
    "    criteria = (cv2.TERM_CRITERIA_EPS + cv2.TERM_CRITERIA_MAX_ITER, 10, 1.0)\n",
    "    K = 6\n",
    "    ret, label, center = cv2.kmeans(Z, K, None, criteria, 10, cv2.KMEANS_RANDOM_CENTERS)\n",
    "\n",
    "    ## Vracanje originalne slike\n",
    "    center = np.uint8(center)\n",
    "    res = center[label.flatten()]\n",
    "    res2 = res.reshape((img.shape))\n",
    "\n",
    "    rottenReg.append(res2)"
   ]
  },
  {
   "cell_type": "markdown",
   "metadata": {
    "collapsed": true
   },
   "source": [
    "<p><b><i>Spajanje slicnih regiona preko merge algoritma RAG(Region Adjacent Graphs)<i/><b/><p/>"
   ]
  },
  {
   "cell_type": "code",
   "execution_count": 28,
   "metadata": {
    "collapsed": true,
    "scrolled": true
   },
   "outputs": [],
   "source": [
    "## poziva se nakon spajanja dva regiona, gde se racuna weight regiona koji je sada susedan\n",
    "## novonastalom regionu\n",
    "def _weight_mean_color(graph, src, dst, n):\n",
    "    diff = graph.node[dst]['mean color'] - graph.node[n]['mean color']\n",
    "    diff = np.linalg.norm(diff)\n",
    "    return {'weight': diff}\n",
    "\n",
    "## poziva se uoci spajanja dva regiona\n",
    "def merge_mean_color(graph, src, dst):\n",
    "    graph.node[dst]['total color'] += graph.node[src]['total color']\n",
    "    graph.node[dst]['pixel count'] += graph.node[src]['pixel count']\n",
    "    graph.node[dst]['mean color'] = (graph.node[dst]['total color'] /\n",
    "                                     graph.node[dst]['pixel count'])"
   ]
  },
  {
   "cell_type": "code",
   "execution_count": 26,
   "metadata": {
    "collapsed": true
   },
   "outputs": [],
   "source": [
    "freshMerge = []\n",
    "for img in fresh:\n",
    "    ## segmentira u koloru\n",
    "    labels = segmentation.slic(img, compactness=30, n_segments=40)\n",
    "    ## od slike pravi korespondirajuci RAG graf\n",
    "    g = graph.rag_mean_color(img, labels)\n",
    "    ## vrsi hijerarhijsko spajanje grafa\n",
    "    labels2 = graph.merge_hierarchical(labels, g, thresh=75, rag_copy=False,\n",
    "                                       in_place_merge=True,\n",
    "                                       merge_func=merge_mean_color,\n",
    "                                       weight_func=_weight_mean_color)\n",
    "    out = color.label2rgb(labels2, img, kind='avg')\n",
    "    out = segmentation.mark_boundaries(out, labels2, (0, 0, 0))\n",
    "    freshMerge.append(out)"
   ]
  },
  {
   "cell_type": "code",
   "execution_count": null,
   "metadata": {
    "collapsed": true
   },
   "outputs": [],
   "source": [
    "rottenMerge = []\n",
    "for img in rottenReg:\n",
    "    labels = segmentation.slic(img, compactness=30, n_segments=400)\n",
    "    g = graph.rag_mean_color(img, labels)\n",
    "    labels2 = graph.merge_hierarchical(labels, g, thresh=75, rag_copy=False,\n",
    "                                       in_place_merge=True,\n",
    "                                       merge_func=merge_mean_color,\n",
    "                                       weight_func=_weight_mean_color)\n",
    "    out = color.label2rgb(labels2, img, kind='avg')\n",
    "    out = segmentation.mark_boundaries(out, labels2, (0, 0, 0))\n",
    "    rottenMerge.append(out)"
   ]
  },
  {
   "cell_type": "code",
   "execution_count": null,
   "metadata": {
    "collapsed": true
   },
   "outputs": [],
   "source": []
  }
 ],
 "metadata": {
  "kernelspec": {
   "display_name": "Python 3",
   "language": "python",
   "name": "python3"
  },
  "language_info": {
   "codemirror_mode": {
    "name": "ipython",
    "version": 3
   },
   "file_extension": ".py",
   "mimetype": "text/x-python",
   "name": "python",
   "nbconvert_exporter": "python",
   "pygments_lexer": "ipython3",
   "version": "3.5.4"
  }
 },
 "nbformat": 4,
 "nbformat_minor": 2
}
